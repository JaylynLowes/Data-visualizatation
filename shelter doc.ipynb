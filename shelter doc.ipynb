{
 "cells": [
  {
   "cell_type": "code",
   "execution_count": null,
   "id": "8ceebf64-4a54-4cd9-99ed-4c8122a2627f",
   "metadata": {},
   "outputs": [],
   "source": []
  },
  {
   "cell_type": "code",
   "execution_count": null,
   "id": "607c82c5-7d4d-4288-9698-407052071e67",
   "metadata": {},
   "outputs": [],
   "source": []
  },
  {
   "cell_type": "code",
   "execution_count": null,
   "id": "15b26135-cb7e-4beb-bf30-3cabf5fb73b2",
   "metadata": {},
   "outputs": [],
   "source": []
  },
  {
   "cell_type": "code",
   "execution_count": null,
   "id": "e0fd0419-7a23-44eb-ba55-b25521d9d0c5",
   "metadata": {},
   "outputs": [],
   "source": [
    "nyc_elderly_shelters_url = 'https://data.cityofnewyork.us/api/views/6j6t-3ixh/rows.csv?accessType=DOWNLOAD'"
   ]
  },
  {
   "cell_type": "code",
   "execution_count": null,
   "id": "3f6b2188-fcc6-4f0d-998f-cf2b7650f6ef",
   "metadata": {},
   "outputs": [],
   "source": [
    "import pandas as pd"
   ]
  },
  {
   "cell_type": "code",
   "execution_count": null,
   "id": "0e67e746-46d6-4330-85ec-1bd2fefbca29",
   "metadata": {},
   "outputs": [],
   "source": [
    "t = pd.read_csv(nyc_elderly_shelters_url)"
   ]
  },
  {
   "cell_type": "code",
   "execution_count": null,
   "id": "df78c19d-7ef9-40d6-8562-292e24d416cd",
   "metadata": {},
   "outputs": [
    {
     "data": {
      "text/plain": [
       "379"
      ]
     },
     "execution_count": 5,
     "metadata": {},
     "output_type": "execute_result"
    }
   ],
   "source": [
    "len(t)"
   ]
  },
  {
   "cell_type": "code",
   "execution_count": null,
   "id": "0c8995ec-fbb8-49fe-8092-bc5daa538a0b",
   "metadata": {},
   "outputs": [
    {
     "data": {
      "text/html": [
       "<div>\n",
       "<style scoped>\n",
       "    .dataframe tbody tr th:only-of-type {\n",
       "        vertical-align: middle;\n",
       "    }\n",
       "\n",
       "    .dataframe tbody tr th {\n",
       "        vertical-align: top;\n",
       "    }\n",
       "\n",
       "    .dataframe thead th {\n",
       "        text-align: right;\n",
       "    }\n",
       "</style>\n",
       "<table border=\"1\" class=\"dataframe\">\n",
       "  <thead>\n",
       "    <tr style=\"text-align: right;\">\n",
       "      <th></th>\n",
       "      <th>Contract Type</th>\n",
       "      <th>Provider ID</th>\n",
       "      <th>Program Name</th>\n",
       "      <th>Sponsor Name</th>\n",
       "      <th>Program Address</th>\n",
       "      <th>Program Borough</th>\n",
       "      <th>Program Zipcode</th>\n",
       "      <th>Program Phone</th>\n",
       "    </tr>\n",
       "  </thead>\n",
       "  <tbody>\n",
       "    <tr>\n",
       "      <th>0</th>\n",
       "      <td>ABUSE PREVENTION</td>\n",
       "      <td>1E101</td>\n",
       "      <td>SHOPP ELDER ABUSE BX 1-8</td>\n",
       "      <td>THE NEIGHBORHOOD SELF-HELP BY OLDER PERSONS PR...</td>\n",
       "      <td>953 SOUTHERN BOULEVARD</td>\n",
       "      <td>BRONX</td>\n",
       "      <td>10459</td>\n",
       "      <td>718-542-0006</td>\n",
       "    </tr>\n",
       "    <tr>\n",
       "      <th>1</th>\n",
       "      <td>ABUSE PREVENTION</td>\n",
       "      <td>2E101</td>\n",
       "      <td>JASA ELDER ABUSE</td>\n",
       "      <td>THE JEWISH ASSOCIATION FOR SERVICES FOR THE AGED</td>\n",
       "      <td>44 COURT STREET</td>\n",
       "      <td>BROOKLYN</td>\n",
       "      <td>11201</td>\n",
       "      <td>718-943-7752</td>\n",
       "    </tr>\n",
       "    <tr>\n",
       "      <th>2</th>\n",
       "      <td>ABUSE PREVENTION</td>\n",
       "      <td>3E201</td>\n",
       "      <td>CARTER BURDEN ELDER ABUSE</td>\n",
       "      <td>CARTER BURDEN NETWORK, INC.</td>\n",
       "      <td>1484 FIRST AVENUE</td>\n",
       "      <td>NEW YORK</td>\n",
       "      <td>10021</td>\n",
       "      <td>212-879-7400</td>\n",
       "    </tr>\n",
       "    <tr>\n",
       "      <th>3</th>\n",
       "      <td>ABUSE PREVENTION</td>\n",
       "      <td>4E101</td>\n",
       "      <td>JASA ELDER ABUSE</td>\n",
       "      <td>THE JEWISH ASSOCIATION FOR SERVICES FOR THE AGED</td>\n",
       "      <td>97-77 QUEENS BOULEVARD</td>\n",
       "      <td>REGO PARK</td>\n",
       "      <td>11374</td>\n",
       "      <td>718-286-1524</td>\n",
       "    </tr>\n",
       "    <tr>\n",
       "      <th>4</th>\n",
       "      <td>ABUSE PREVENTION</td>\n",
       "      <td>5E101</td>\n",
       "      <td>CASC ELDER ABUSE</td>\n",
       "      <td>COMMUNITY AGENCY FOR SENIOR CITIZENS INC</td>\n",
       "      <td>56 BAY STREET</td>\n",
       "      <td>STATEN ISLAND</td>\n",
       "      <td>10301</td>\n",
       "      <td>718-981-6226</td>\n",
       "    </tr>\n",
       "  </tbody>\n",
       "</table>\n",
       "</div>"
      ],
      "text/plain": [
       "      Contract Type Provider ID               Program Name  \\\n",
       "0  ABUSE PREVENTION       1E101   SHOPP ELDER ABUSE BX 1-8   \n",
       "1  ABUSE PREVENTION       2E101           JASA ELDER ABUSE   \n",
       "2  ABUSE PREVENTION       3E201  CARTER BURDEN ELDER ABUSE   \n",
       "3  ABUSE PREVENTION       4E101           JASA ELDER ABUSE   \n",
       "4  ABUSE PREVENTION       5E101           CASC ELDER ABUSE   \n",
       "\n",
       "                                        Sponsor Name         Program Address  \\\n",
       "0  THE NEIGHBORHOOD SELF-HELP BY OLDER PERSONS PR...  953 SOUTHERN BOULEVARD   \n",
       "1  THE JEWISH ASSOCIATION FOR SERVICES FOR THE AGED          44 COURT STREET   \n",
       "2                        CARTER BURDEN NETWORK, INC.       1484 FIRST AVENUE   \n",
       "3  THE JEWISH ASSOCIATION FOR SERVICES FOR THE AGED   97-77 QUEENS BOULEVARD   \n",
       "4          COMMUNITY AGENCY FOR SENIOR CITIZENS INC            56 BAY STREET   \n",
       "\n",
       "  Program Borough  Program Zipcode  Program Phone  \n",
       "0           BRONX            10459  718-542-0006   \n",
       "1        BROOKLYN            11201  718-943-7752   \n",
       "2        NEW YORK            10021  212-879-7400   \n",
       "3       REGO PARK            11374  718-286-1524   \n",
       "4   STATEN ISLAND            10301  718-981-6226   "
      ]
     },
     "execution_count": 8,
     "metadata": {},
     "output_type": "execute_result"
    }
   ],
   "source": [
    "t[:5]"
   ]
  },
  {
   "cell_type": "code",
   "execution_count": null,
   "id": "3003eb49-6f16-44f4-a035-8ef9595ffa85",
   "metadata": {},
   "outputs": [
    {
     "data": {
      "text/plain": [
       "Index(['Contract Type', 'Provider ID', 'Program Name', 'Sponsor Name',\n",
       "       'Program Address', 'Program Borough', 'Program Zipcode',\n",
       "       'Program Phone'],\n",
       "      dtype='object')"
      ]
     },
     "execution_count": 17,
     "metadata": {},
     "output_type": "execute_result"
    }
   ],
   "source": [
    "t.columns"
   ]
  },
  {
   "cell_type": "code",
   "execution_count": null,
   "id": "63d08cd3-d3fc-4684-9957-049abf30e912",
   "metadata": {},
   "outputs": [
    {
     "data": {
      "text/plain": [
       "array([10459, 11201, 10021, 11374, 10301, 10010, 10016, 10451, 11235,\n",
       "       10038, 11104, 11427, 10312, 10001, 10013, 10460, 10467, 10462,\n",
       "       11234, 11230, 11220, 11221, 10007, 10018, 11375, 11355, 11423,\n",
       "       11691, 10473, 10453, 10452, 11212, 11208, 10037, 10035, 11354,\n",
       "       11102, 10024, 11362, 10065, 11432, 11224, 11209, 11206, 10002,\n",
       "       10019, 10128, 10027, 11385, 11368, 10302, 10029, 10003, 10023,\n",
       "       10040, 10314, 10011, 11205, 10033, 10471, 10463, 10454, 10455,\n",
       "       10475, 10457, 10468, 10469, 10456, 10472, 10461, 10458, 10466,\n",
       "       10465, 10464, 11238, 11222, 11223, 11204, 11203, 11211, 11214,\n",
       "       11217, 11219, 11231, 11233, 11213, 11216, 11239, 11236, 11229,\n",
       "       11225, 11226, 11237, 11215, 10032, 10034, 10014, 10044, 10036,\n",
       "       10026, 10009, 10022, 10012, 10025, 10031, 10039, 10030, 11434,\n",
       "       11435, 11433, 11415, 11414, 11378, 11373, 11101, 11106, 11367,\n",
       "       11356, 11411, 11379, 11358, 11377, 11416, 11372, 11693, 11360,\n",
       "       11364, 11421, 11694, 11369, 11422, 10305, 10308, 10309, 10304,\n",
       "       10310, 11365, 10028])"
      ]
     },
     "execution_count": 18,
     "metadata": {},
     "output_type": "execute_result"
    }
   ],
   "source": [
    "t['Program Zipcode'].unique()"
   ]
  },
  {
   "cell_type": "code",
   "execution_count": null,
   "id": "9bc943ed-bc4b-4c84-b0b4-2881af2813d1",
   "metadata": {},
   "outputs": [
    {
     "data": {
      "text/html": [
       "<div>\n",
       "<style scoped>\n",
       "    .dataframe tbody tr th:only-of-type {\n",
       "        vertical-align: middle;\n",
       "    }\n",
       "\n",
       "    .dataframe tbody tr th {\n",
       "        vertical-align: top;\n",
       "    }\n",
       "\n",
       "    .dataframe thead th {\n",
       "        text-align: right;\n",
       "    }\n",
       "</style>\n",
       "<table border=\"1\" class=\"dataframe\">\n",
       "  <thead>\n",
       "    <tr style=\"text-align: right;\">\n",
       "      <th></th>\n",
       "      <th>Contract Type</th>\n",
       "      <th>Provider ID</th>\n",
       "      <th>Program Name</th>\n",
       "      <th>Sponsor Name</th>\n",
       "      <th>Program Address</th>\n",
       "      <th>Program Borough</th>\n",
       "      <th>Program Phone</th>\n",
       "    </tr>\n",
       "    <tr>\n",
       "      <th>Program Zipcode</th>\n",
       "      <th></th>\n",
       "      <th></th>\n",
       "      <th></th>\n",
       "      <th></th>\n",
       "      <th></th>\n",
       "      <th></th>\n",
       "      <th></th>\n",
       "    </tr>\n",
       "  </thead>\n",
       "  <tbody>\n",
       "    <tr>\n",
       "      <th>10001</th>\n",
       "      <td>3</td>\n",
       "      <td>3</td>\n",
       "      <td>3</td>\n",
       "      <td>3</td>\n",
       "      <td>3</td>\n",
       "      <td>3</td>\n",
       "      <td>3</td>\n",
       "    </tr>\n",
       "    <tr>\n",
       "      <th>10002</th>\n",
       "      <td>9</td>\n",
       "      <td>9</td>\n",
       "      <td>9</td>\n",
       "      <td>9</td>\n",
       "      <td>9</td>\n",
       "      <td>9</td>\n",
       "      <td>9</td>\n",
       "    </tr>\n",
       "    <tr>\n",
       "      <th>10003</th>\n",
       "      <td>1</td>\n",
       "      <td>1</td>\n",
       "      <td>1</td>\n",
       "      <td>1</td>\n",
       "      <td>1</td>\n",
       "      <td>1</td>\n",
       "      <td>1</td>\n",
       "    </tr>\n",
       "    <tr>\n",
       "      <th>10007</th>\n",
       "      <td>1</td>\n",
       "      <td>1</td>\n",
       "      <td>1</td>\n",
       "      <td>1</td>\n",
       "      <td>1</td>\n",
       "      <td>1</td>\n",
       "      <td>1</td>\n",
       "    </tr>\n",
       "    <tr>\n",
       "      <th>10009</th>\n",
       "      <td>3</td>\n",
       "      <td>3</td>\n",
       "      <td>3</td>\n",
       "      <td>3</td>\n",
       "      <td>3</td>\n",
       "      <td>3</td>\n",
       "      <td>3</td>\n",
       "    </tr>\n",
       "    <tr>\n",
       "      <th>...</th>\n",
       "      <td>...</td>\n",
       "      <td>...</td>\n",
       "      <td>...</td>\n",
       "      <td>...</td>\n",
       "      <td>...</td>\n",
       "      <td>...</td>\n",
       "      <td>...</td>\n",
       "    </tr>\n",
       "    <tr>\n",
       "      <th>11434</th>\n",
       "      <td>2</td>\n",
       "      <td>2</td>\n",
       "      <td>2</td>\n",
       "      <td>2</td>\n",
       "      <td>2</td>\n",
       "      <td>2</td>\n",
       "      <td>2</td>\n",
       "    </tr>\n",
       "    <tr>\n",
       "      <th>11435</th>\n",
       "      <td>1</td>\n",
       "      <td>1</td>\n",
       "      <td>1</td>\n",
       "      <td>1</td>\n",
       "      <td>1</td>\n",
       "      <td>1</td>\n",
       "      <td>1</td>\n",
       "    </tr>\n",
       "    <tr>\n",
       "      <th>11691</th>\n",
       "      <td>4</td>\n",
       "      <td>4</td>\n",
       "      <td>4</td>\n",
       "      <td>4</td>\n",
       "      <td>4</td>\n",
       "      <td>4</td>\n",
       "      <td>4</td>\n",
       "    </tr>\n",
       "    <tr>\n",
       "      <th>11693</th>\n",
       "      <td>1</td>\n",
       "      <td>1</td>\n",
       "      <td>1</td>\n",
       "      <td>1</td>\n",
       "      <td>1</td>\n",
       "      <td>1</td>\n",
       "      <td>1</td>\n",
       "    </tr>\n",
       "    <tr>\n",
       "      <th>11694</th>\n",
       "      <td>1</td>\n",
       "      <td>1</td>\n",
       "      <td>1</td>\n",
       "      <td>1</td>\n",
       "      <td>1</td>\n",
       "      <td>1</td>\n",
       "      <td>1</td>\n",
       "    </tr>\n",
       "  </tbody>\n",
       "</table>\n",
       "<p>138 rows × 7 columns</p>\n",
       "</div>"
      ],
      "text/plain": [
       "                 Contract Type  Provider ID  Program Name  Sponsor Name  \\\n",
       "Program Zipcode                                                           \n",
       "10001                        3            3             3             3   \n",
       "10002                        9            9             9             9   \n",
       "10003                        1            1             1             1   \n",
       "10007                        1            1             1             1   \n",
       "10009                        3            3             3             3   \n",
       "...                        ...          ...           ...           ...   \n",
       "11434                        2            2             2             2   \n",
       "11435                        1            1             1             1   \n",
       "11691                        4            4             4             4   \n",
       "11693                        1            1             1             1   \n",
       "11694                        1            1             1             1   \n",
       "\n",
       "                 Program Address  Program Borough  Program Phone  \n",
       "Program Zipcode                                                   \n",
       "10001                          3                3              3  \n",
       "10002                          9                9              9  \n",
       "10003                          1                1              1  \n",
       "10007                          1                1              1  \n",
       "10009                          3                3              3  \n",
       "...                          ...              ...            ...  \n",
       "11434                          2                2              2  \n",
       "11435                          1                1              1  \n",
       "11691                          4                4              4  \n",
       "11693                          1                1              1  \n",
       "11694                          1                1              1  \n",
       "\n",
       "[138 rows x 7 columns]"
      ]
     },
     "execution_count": 19,
     "metadata": {},
     "output_type": "execute_result"
    }
   ],
   "source": [
    "t.groupby('Program Zipcode').count()"
   ]
  },
  {
   "cell_type": "code",
   "execution_count": null,
   "id": "f367b9e5-802f-46b3-9026-1cabb70bf005",
   "metadata": {},
   "outputs": [
    {
     "data": {
      "text/plain": [
       "<AxesSubplot:xlabel='Program Zipcode'>"
      ]
     },
     "execution_count": 33,
     "metadata": {},
     "output_type": "execute_result"
    },
    {
     "data": {
      "image/png": "[encoded data removed]",
      "text/plain": [
       "<Figure size 1800x288 with 1 Axes>"
      ]
     },
     "metadata": {
      "needs_background": "light"
     },
     "output_type": "display_data"
    }
   ],
   "source": [
    "t[['Contract Type', 'Program Zipcode']].groupby('Program Zipcode').count().plot.bar(figsize=(25,4))"
   ]
  },
  {
   "cell_type": "code",
   "execution_count": null,
   "id": "d7c14c7b-e604-4933-9b92-b822e4309412",
   "metadata": {},
   "outputs": [],
   "source": []
  },
  {
   "cell_type": "code",
   "execution_count": null,
   "id": "a8129615-47ed-47dd-9fb8-608917090fcc",
   "metadata": {},
   "outputs": [],
   "source": []
  }
 ],
 "metadata": {
  "kernelspec": {
   "display_name": "Python 3 (ipykernel)",
   "language": "python",
   "name": "python3"
  },
  "language_info": {
   "codemirror_mode": {
    "name": "ipython",
    "version": 3
   },
   "file_extension": ".py",
   "mimetype": "text/x-python",
   "name": "python",
   "nbconvert_exporter": "python",
   "pygments_lexer": "ipython3",
   "version": "3.9.6"
  }
 },
 "nbformat": 4,
 "nbformat_minor": 5
}
