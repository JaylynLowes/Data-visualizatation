{
 "cells": [
  {
   "cell_type": "code",
   "execution_count": 1,
   "id": "0c0e22c7-0217-4b2e-aaf2-59d196bd8463",
   "metadata": {},
   "outputs": [],
   "source": [
    "nyc_hurricane_shelters_url = 'https://data.cityofnewyork.us/api/views/addd-ji6a/rows.csv?accessType=DOWNLOAD'"
   ]
  },
  {
   "cell_type": "code",
   "execution_count": 2,
   "id": "58b3a3f7-9fef-42d1-840d-05faad19c844",
   "metadata": {},
   "outputs": [],
   "source": [
    "import pandas as pd"
   ]
  },
  {
   "cell_type": "code",
   "execution_count": 3,
   "id": "a12d5ac1-ae8d-444d-a697-2f59962b866b",
   "metadata": {},
   "outputs": [],
   "source": [
    "t = pd.read_csv(nyc_hurricane_shelters_url)"
   ]
  },
  {
   "cell_type": "code",
   "execution_count": 4,
   "id": "c4adbb68-f38e-41d4-99f7-f56cb3b96ee6",
   "metadata": {},
   "outputs": [
    {
     "data": {
      "text/plain": [
       "60"
      ]
     },
     "execution_count": 4,
     "metadata": {},
     "output_type": "execute_result"
    }
   ],
   "source": [
    "len(t)"
   ]
  },
  {
   "cell_type": "code",
   "execution_count": 5,
   "id": "ba17aa6c-401b-43cf-a2e4-22577f887f16",
   "metadata": {},
   "outputs": [
    {
     "data": {
      "text/html": [
       "<div>\n",
       "<style scoped>\n",
       "    .dataframe tbody tr th:only-of-type {\n",
       "        vertical-align: middle;\n",
       "    }\n",
       "\n",
       "    .dataframe tbody tr th {\n",
       "        vertical-align: top;\n",
       "    }\n",
       "\n",
       "    .dataframe thead th {\n",
       "        text-align: right;\n",
       "    }\n",
       "</style>\n",
       "<table border=\"1\" class=\"dataframe\">\n",
       "  <thead>\n",
       "    <tr style=\"text-align: right;\">\n",
       "      <th></th>\n",
       "      <th>CITY</th>\n",
       "      <th>BLDG_NAME</th>\n",
       "      <th>the_geom</th>\n",
       "      <th>BLDG_ADD</th>\n",
       "      <th>STATE</th>\n",
       "      <th>ZIP_CODE</th>\n",
       "      <th>BOROCODE</th>\n",
       "      <th>ACCESSIBLE</th>\n",
       "      <th>BIN</th>\n",
       "      <th>BBL</th>\n",
       "    </tr>\n",
       "  </thead>\n",
       "  <tbody>\n",
       "    <tr>\n",
       "      <th>0</th>\n",
       "      <td>Bronx</td>\n",
       "      <td>HS Of Law, Gov't &amp; Justice - X</td>\n",
       "      <td>POINT (-73.91902100546525 40.82747699295518)</td>\n",
       "      <td>244 E 163 Street</td>\n",
       "      <td>NY</td>\n",
       "      <td>10451</td>\n",
       "      <td>2</td>\n",
       "      <td>Y</td>\n",
       "      <td>2109459</td>\n",
       "      <td>2024450006</td>\n",
       "    </tr>\n",
       "    <tr>\n",
       "      <th>1</th>\n",
       "      <td>Bronx</td>\n",
       "      <td>Walton HS - X</td>\n",
       "      <td>POINT (-73.89704424213798 40.86993370687484)</td>\n",
       "      <td>2780 Reservoir Avenue</td>\n",
       "      <td>NY</td>\n",
       "      <td>10468</td>\n",
       "      <td>2</td>\n",
       "      <td>Y</td>\n",
       "      <td>2015241</td>\n",
       "      <td>2032470070</td>\n",
       "    </tr>\n",
       "    <tr>\n",
       "      <th>2</th>\n",
       "      <td>Bronx</td>\n",
       "      <td>I.S./H.S. 362 - Bronx</td>\n",
       "      <td>POINT (-73.85266908917056 40.888220095065755)</td>\n",
       "      <td>921 E 228 Street</td>\n",
       "      <td>NY</td>\n",
       "      <td>10466</td>\n",
       "      <td>2</td>\n",
       "      <td>Y</td>\n",
       "      <td>2064589</td>\n",
       "      <td>2048640035</td>\n",
       "    </tr>\n",
       "    <tr>\n",
       "      <th>3</th>\n",
       "      <td>Bronx</td>\n",
       "      <td>Morris Heights Educational Complex - Bronx</td>\n",
       "      <td>POINT (-73.9152409755709 40.850045108706375)</td>\n",
       "      <td>1780 Dr. Martin Luther King Jr. Blvd</td>\n",
       "      <td>NY</td>\n",
       "      <td>10453</td>\n",
       "      <td>2</td>\n",
       "      <td>Y</td>\n",
       "      <td>2008470</td>\n",
       "      <td>2028660105</td>\n",
       "    </tr>\n",
       "    <tr>\n",
       "      <th>4</th>\n",
       "      <td>Bronx</td>\n",
       "      <td>P.S./I.S. 218 - Bronx</td>\n",
       "      <td>POINT (-73.919664554437 40.835492654592585)</td>\n",
       "      <td>1220 Gerard Avenue</td>\n",
       "      <td>NY</td>\n",
       "      <td>10452</td>\n",
       "      <td>2</td>\n",
       "      <td>Y</td>\n",
       "      <td>2097130</td>\n",
       "      <td>2024800008</td>\n",
       "    </tr>\n",
       "  </tbody>\n",
       "</table>\n",
       "</div>"
      ],
      "text/plain": [
       "    CITY                                   BLDG_NAME  \\\n",
       "0  Bronx              HS Of Law, Gov't & Justice - X   \n",
       "1  Bronx                               Walton HS - X   \n",
       "2  Bronx                       I.S./H.S. 362 - Bronx   \n",
       "3  Bronx  Morris Heights Educational Complex - Bronx   \n",
       "4  Bronx                       P.S./I.S. 218 - Bronx   \n",
       "\n",
       "                                        the_geom  \\\n",
       "0   POINT (-73.91902100546525 40.82747699295518)   \n",
       "1   POINT (-73.89704424213798 40.86993370687484)   \n",
       "2  POINT (-73.85266908917056 40.888220095065755)   \n",
       "3   POINT (-73.9152409755709 40.850045108706375)   \n",
       "4    POINT (-73.919664554437 40.835492654592585)   \n",
       "\n",
       "                               BLDG_ADD STATE  ZIP_CODE  BOROCODE ACCESSIBLE  \\\n",
       "0                      244 E 163 Street    NY     10451         2          Y   \n",
       "1                 2780 Reservoir Avenue    NY     10468         2          Y   \n",
       "2                      921 E 228 Street    NY     10466         2          Y   \n",
       "3  1780 Dr. Martin Luther King Jr. Blvd    NY     10453         2          Y   \n",
       "4                    1220 Gerard Avenue    NY     10452         2          Y   \n",
       "\n",
       "       BIN         BBL  \n",
       "0  2109459  2024450006  \n",
       "1  2015241  2032470070  \n",
       "2  2064589  2048640035  \n",
       "3  2008470  2028660105  \n",
       "4  2097130  2024800008  "
      ]
     },
     "execution_count": 5,
     "metadata": {},
     "output_type": "execute_result"
    }
   ],
   "source": [
    "t[:5]\n"
   ]
  },
  {
   "cell_type": "code",
   "execution_count": 7,
   "id": "4f290ee7-4025-4529-889b-8ad2397bd4ea",
   "metadata": {},
   "outputs": [
    {
     "data": {
      "text/plain": [
       "array([2, 5, 4, 1, 3])"
      ]
     },
     "execution_count": 7,
     "metadata": {},
     "output_type": "execute_result"
    }
   ],
   "source": [
    "t.BOROCODE.unique()"
   ]
  },
  {
   "cell_type": "code",
   "execution_count": 8,
   "id": "d2b7cf83-af8b-495e-898f-67ec43436e0f",
   "metadata": {},
   "outputs": [
    {
     "data": {
      "text/plain": [
       "array(['Bronx', 'Staten Island', 'Long Island City', 'Bellerose',\n",
       "       'Flushing', 'Jamaica', 'Ridgewood', 'Corona', 'Forest Hills',\n",
       "       'Jackson Heights', 'South Ozone Park', 'Bayside', 'Maspeth',\n",
       "       'New York', 'Brooklyn'], dtype=object)"
      ]
     },
     "execution_count": 8,
     "metadata": {},
     "output_type": "execute_result"
    }
   ],
   "source": [
    "t.CITY.unique()\n"
   ]
  },
  {
   "cell_type": "code",
   "execution_count": 9,
   "id": "b1dd0080-cb7c-4f7d-941e-28eb338c4046",
   "metadata": {},
   "outputs": [],
   "source": [
    "borough_name_by_code = {\n",
    "\t1: 'Manhattan',\n",
    "\t2: 'Bronx',\n",
    "\t3: 'Brooklyn',\n",
    "\t4: 'Queens',\n",
    "\t5: 'Staten Island',\n",
    "}\n"
   ]
  },
  {
   "cell_type": "code",
   "execution_count": 10,
   "id": "d5345728-dfb4-4a6e-a979-d23d1708e0bd",
   "metadata": {},
   "outputs": [
    {
     "data": {
      "text/html": [
       "<div>\n",
       "<style scoped>\n",
       "    .dataframe tbody tr th:only-of-type {\n",
       "        vertical-align: middle;\n",
       "    }\n",
       "\n",
       "    .dataframe tbody tr th {\n",
       "        vertical-align: top;\n",
       "    }\n",
       "\n",
       "    .dataframe thead th {\n",
       "        text-align: right;\n",
       "    }\n",
       "</style>\n",
       "<table border=\"1\" class=\"dataframe\">\n",
       "  <thead>\n",
       "    <tr style=\"text-align: right;\">\n",
       "      <th></th>\n",
       "      <th>CITY</th>\n",
       "      <th>BLDG_NAME</th>\n",
       "      <th>the_geom</th>\n",
       "      <th>BLDG_ADD</th>\n",
       "      <th>STATE</th>\n",
       "      <th>ZIP_CODE</th>\n",
       "      <th>ACCESSIBLE</th>\n",
       "      <th>BIN</th>\n",
       "      <th>BBL</th>\n",
       "    </tr>\n",
       "    <tr>\n",
       "      <th>BOROCODE</th>\n",
       "      <th></th>\n",
       "      <th></th>\n",
       "      <th></th>\n",
       "      <th></th>\n",
       "      <th></th>\n",
       "      <th></th>\n",
       "      <th></th>\n",
       "      <th></th>\n",
       "      <th></th>\n",
       "    </tr>\n",
       "  </thead>\n",
       "  <tbody>\n",
       "    <tr>\n",
       "      <th>1</th>\n",
       "      <td>10</td>\n",
       "      <td>10</td>\n",
       "      <td>10</td>\n",
       "      <td>10</td>\n",
       "      <td>10</td>\n",
       "      <td>10</td>\n",
       "      <td>10</td>\n",
       "      <td>10</td>\n",
       "      <td>10</td>\n",
       "    </tr>\n",
       "    <tr>\n",
       "      <th>2</th>\n",
       "      <td>12</td>\n",
       "      <td>12</td>\n",
       "      <td>12</td>\n",
       "      <td>12</td>\n",
       "      <td>12</td>\n",
       "      <td>12</td>\n",
       "      <td>12</td>\n",
       "      <td>12</td>\n",
       "      <td>12</td>\n",
       "    </tr>\n",
       "    <tr>\n",
       "      <th>3</th>\n",
       "      <td>17</td>\n",
       "      <td>17</td>\n",
       "      <td>17</td>\n",
       "      <td>17</td>\n",
       "      <td>17</td>\n",
       "      <td>17</td>\n",
       "      <td>17</td>\n",
       "      <td>17</td>\n",
       "      <td>17</td>\n",
       "    </tr>\n",
       "    <tr>\n",
       "      <th>4</th>\n",
       "      <td>16</td>\n",
       "      <td>16</td>\n",
       "      <td>16</td>\n",
       "      <td>16</td>\n",
       "      <td>16</td>\n",
       "      <td>16</td>\n",
       "      <td>16</td>\n",
       "      <td>16</td>\n",
       "      <td>16</td>\n",
       "    </tr>\n",
       "    <tr>\n",
       "      <th>5</th>\n",
       "      <td>5</td>\n",
       "      <td>5</td>\n",
       "      <td>5</td>\n",
       "      <td>5</td>\n",
       "      <td>5</td>\n",
       "      <td>5</td>\n",
       "      <td>5</td>\n",
       "      <td>5</td>\n",
       "      <td>5</td>\n",
       "    </tr>\n",
       "  </tbody>\n",
       "</table>\n",
       "</div>"
      ],
      "text/plain": [
       "          CITY  BLDG_NAME  the_geom  BLDG_ADD  STATE  ZIP_CODE  ACCESSIBLE  \\\n",
       "BOROCODE                                                                     \n",
       "1           10         10        10        10     10        10          10   \n",
       "2           12         12        12        12     12        12          12   \n",
       "3           17         17        17        17     17        17          17   \n",
       "4           16         16        16        16     16        16          16   \n",
       "5            5          5         5         5      5         5           5   \n",
       "\n",
       "          BIN  BBL  \n",
       "BOROCODE            \n",
       "1          10   10  \n",
       "2          12   12  \n",
       "3          17   17  \n",
       "4          16   16  \n",
       "5           5    5  "
      ]
     },
     "execution_count": 10,
     "metadata": {},
     "output_type": "execute_result"
    }
   ],
   "source": [
    "t.groupby('BOROCODE').count()\n"
   ]
  },
  {
   "cell_type": "code",
   "execution_count": 11,
   "id": "df2ed5cc-56e8-4e9b-8254-7e650c61ad3a",
   "metadata": {},
   "outputs": [
    {
     "data": {
      "text/plain": [
       "<AxesSubplot:xlabel='BOROCODE'>"
      ]
     },
     "execution_count": 11,
     "metadata": {},
     "output_type": "execute_result"
    },
    {
     "data": {
      "image/png": "[encoded data removed]",
      "text/plain": [
       "<Figure size 432x288 with 1 Axes>"
      ]
     },
     "metadata": {
      "needs_background": "light"
     },
     "output_type": "display_data"
    }
   ],
   "source": [
    "t[['CITY', 'BOROCODE']].groupby('BOROCODE').count().plot.bar()\n"
   ]
  },
  {
   "cell_type": "code",
   "execution_count": null,
   "id": "415401a1-138a-49d0-ad29-945491fef9d4",
   "metadata": {},
   "outputs": [],
   "source": []
  }
 ],
 "metadata": {
  "kernelspec": {
   "display_name": "Python 3 (ipykernel)",
   "language": "python",
   "name": "python3"
  },
  "language_info": {
   "codemirror_mode": {
    "name": "ipython",
    "version": 3
   },
   "file_extension": ".py",
   "mimetype": "text/x-python",
   "name": "python",
   "nbconvert_exporter": "python",
   "pygments_lexer": "ipython3",
   "version": "3.9.6"
  }
 },
 "nbformat": 4,
 "nbformat_minor": 5
}
